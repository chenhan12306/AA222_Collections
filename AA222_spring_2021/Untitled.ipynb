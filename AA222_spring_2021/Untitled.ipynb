{
 "cells": [
  {
   "cell_type": "code",
   "execution_count": 3,
   "id": "d8338c3a",
   "metadata": {},
   "outputs": [],
   "source": [
    "using SymEngine"
   ]
  },
  {
   "cell_type": "code",
   "execution_count": 4,
   "id": "0feadb6f",
   "metadata": {},
   "outputs": [
    {
     "data": {
      "text/plain": [
       "1/2 + 2*x + sin(x)/x^2 - cos(x)/x"
      ]
     },
     "execution_count": 4,
     "metadata": {},
     "output_type": "execute_result"
    }
   ],
   "source": [
    "@vars x;\n",
    "f = x^2 + x/2 - sin(x)/x\n",
    "diff(f, x)"
   ]
  },
  {
   "cell_type": "code",
   "execution_count": 6,
   "id": "f817aa9a",
   "metadata": {},
   "outputs": [
    {
     "data": {
      "text/plain": [
       "diff_forward (generic function with 1 method)"
      ]
     },
     "execution_count": 6,
     "metadata": {},
     "output_type": "execute_result"
    }
   ],
   "source": [
    "diff_forward(f, x; h=sqrt(eps(Float64))) = (f(x+h) - f(x))/h"
   ]
  },
  {
   "cell_type": "code",
   "execution_count": 7,
   "id": "ebdbf074",
   "metadata": {},
   "outputs": [
    {
     "data": {
      "text/plain": [
       "diff_central (generic function with 1 method)"
      ]
     },
     "execution_count": 7,
     "metadata": {},
     "output_type": "execute_result"
    }
   ],
   "source": [
    "diff_central(f, x; h=cbrt(eps(Float64))) = (f(x+h/2) - f(x-h/2))/h"
   ]
  },
  {
   "cell_type": "code",
   "execution_count": 8,
   "id": "97b098b7",
   "metadata": {},
   "outputs": [
    {
     "data": {
      "text/plain": [
       "diff_backward (generic function with 1 method)"
      ]
     },
     "execution_count": 8,
     "metadata": {},
     "output_type": "execute_result"
    }
   ],
   "source": [
    "diff_backward(f, x; h=sqrt(eps(Float64))) = (f(x) - f(x-h))/h"
   ]
  },
  {
   "cell_type": "code",
   "execution_count": 9,
   "id": "c4cb3e3d",
   "metadata": {},
   "outputs": [
    {
     "ename": "LoadError",
     "evalue": "syntax: extra token \"oceans16\" after end of expression",
     "output_type": "error",
     "traceback": [
      "syntax: extra token \"oceans16\" after end of expression",
      "",
      "Stacktrace:",
      " [1] top-level scope",
      "   @ In[9]:1",
      " [2] eval",
      "   @ ./boot.jl:360 [inlined]",
      " [3] include_string(mapexpr::typeof(REPL.softscope), mod::Module, code::String, filename::String)",
      "   @ Base ./loading.jl:1116"
     ]
    }
   ],
   "source": [
    "!jt -t oceans16"
   ]
  },
  {
   "cell_type": "code",
   "execution_count": null,
   "id": "10f1312c",
   "metadata": {},
   "outputs": [],
   "source": []
  }
 ],
 "metadata": {
  "kernelspec": {
   "display_name": "Julia 1.6.3",
   "language": "julia",
   "name": "julia-1.6"
  },
  "language_info": {
   "file_extension": ".jl",
   "mimetype": "application/julia",
   "name": "julia",
   "version": "1.6.3"
  }
 },
 "nbformat": 4,
 "nbformat_minor": 5
}
